{
 "cells": [
  {
   "cell_type": "markdown",
   "id": "9271e359",
   "metadata": {},
   "source": [
    "## 3 ways to time your code's performance\n",
    " 1. Tracking time elapsed\n",
    " 2. Using timeit module \n",
    " 3. special %%timeit \"magic\" for jupyter notebook"
   ]
  },
  {
   "cell_type": "code",
   "execution_count": 5,
   "id": "01a21f0b",
   "metadata": {},
   "outputs": [],
   "source": [
    "def func_one(n):\n",
    "    return [str(num) for num in range(n)]"
   ]
  },
  {
   "cell_type": "code",
   "execution_count": 6,
   "id": "3328ced1",
   "metadata": {},
   "outputs": [
    {
     "data": {
      "text/plain": [
       "['0', '1', '2', '3', '4']"
      ]
     },
     "execution_count": 6,
     "metadata": {},
     "output_type": "execute_result"
    }
   ],
   "source": [
    "func_one(5)"
   ]
  },
  {
   "cell_type": "code",
   "execution_count": 8,
   "id": "1fd45a11",
   "metadata": {},
   "outputs": [],
   "source": [
    "def func_two(n):\n",
    "    return list(map(str,range(n)))"
   ]
  },
  {
   "cell_type": "code",
   "execution_count": 9,
   "id": "34ba9476",
   "metadata": {},
   "outputs": [
    {
     "data": {
      "text/plain": [
       "['0', '1', '2', '3', '4']"
      ]
     },
     "execution_count": 9,
     "metadata": {},
     "output_type": "execute_result"
    }
   ],
   "source": [
    "func_two(5)"
   ]
  },
  {
   "cell_type": "code",
   "execution_count": 10,
   "id": "42053981",
   "metadata": {},
   "outputs": [],
   "source": [
    "import time #built in library "
   ]
  },
  {
   "cell_type": "code",
   "execution_count": 11,
   "id": "12468475",
   "metadata": {},
   "outputs": [
    {
     "name": "stdout",
     "output_type": "stream",
     "text": [
      "0.1685333251953125\n"
     ]
    }
   ],
   "source": [
    "#CURRENT TIME BEFORE RUNNING CODE \n",
    "start_time = time.time()\n",
    "#RUN CODE \n",
    "result = func_one(1000000)\n",
    "#CURRENT TIME AFTER RUNNING THE CODE\n",
    "end_time = time.time()\n",
    "#ELAPSED TIME\n",
    "elapsed_time = end_time - start_time\n",
    "\n",
    "print(elapsed_time)"
   ]
  },
  {
   "cell_type": "code",
   "execution_count": 12,
   "id": "d71b5f96",
   "metadata": {},
   "outputs": [
    {
     "name": "stdout",
     "output_type": "stream",
     "text": [
      "0.1454615592956543\n"
     ]
    }
   ],
   "source": [
    "#CURRENT TIME BEFORE RUNNING CODE \n",
    "start_time = time.time()\n",
    "#RUN CODE \n",
    "result = func_two(1000000)\n",
    "#CURRENT TIME AFTER RUNNING THE CODE\n",
    "end_time = time.time()\n",
    "#ELAPSED TIME\n",
    "elapsed_time = end_time - start_time\n",
    "\n",
    "print(elapsed_time)"
   ]
  },
  {
   "cell_type": "markdown",
   "id": "a6d19139",
   "metadata": {},
   "source": [
    "Limitation - \n",
    "\n",
    "really hard to get precision for elapsed time when the value is small, or smaller pieces of code."
   ]
  },
  {
   "cell_type": "code",
   "execution_count": 13,
   "id": "4322da61",
   "metadata": {},
   "outputs": [],
   "source": [
    "#USING THE TIMEIIT MODULE (DOWN TO THE EFFICIENCY)\n",
    "\n",
    "import timeit"
   ]
  },
  {
   "cell_type": "code",
   "execution_count": 14,
   "id": "c5cdaab9",
   "metadata": {},
   "outputs": [],
   "source": [
    "stmt = '''\n",
    "func_one(100)\n",
    "'''\n",
    "#thi sis called over and over again"
   ]
  },
  {
   "cell_type": "code",
   "execution_count": 15,
   "id": "965d6d34",
   "metadata": {},
   "outputs": [],
   "source": [
    "setup = '''\n",
    "def func_one(n):\n",
    "    return[str(num) for num in range(n)]\n",
    "'''\n",
    "#only setup once"
   ]
  },
  {
   "cell_type": "code",
   "execution_count": 16,
   "id": "ead40fba",
   "metadata": {},
   "outputs": [
    {
     "data": {
      "text/plain": [
       "1.3438768000005439"
      ]
     },
     "execution_count": 16,
     "metadata": {},
     "output_type": "execute_result"
    }
   ],
   "source": [
    "timeit.timeit(stmt,setup, number = 100000)"
   ]
  },
  {
   "cell_type": "code",
   "execution_count": 23,
   "id": "cf84c1dc",
   "metadata": {},
   "outputs": [],
   "source": [
    "stmt2 = '''\n",
    "func_two(100)\n",
    "'''"
   ]
  },
  {
   "cell_type": "code",
   "execution_count": 24,
   "id": "463e891c",
   "metadata": {},
   "outputs": [],
   "source": [
    "setup2 = '''\n",
    "def func_two(n):\n",
    "    return list(map(str,range(n)))\n",
    "'''"
   ]
  },
  {
   "cell_type": "code",
   "execution_count": 25,
   "id": "919f8ca7",
   "metadata": {},
   "outputs": [
    {
     "data": {
      "text/plain": [
       "1.0654108999997334"
      ]
     },
     "execution_count": 25,
     "metadata": {},
     "output_type": "execute_result"
    }
   ],
   "source": [
    "timeit.timeit(stmt2, setup2, number = 100000)"
   ]
  },
  {
   "cell_type": "markdown",
   "id": "048b0a0f",
   "metadata": {},
   "source": [
    "### Magic Method for jupyter notebook only "
   ]
  },
  {
   "cell_type": "code",
   "execution_count": 26,
   "id": "55c96464",
   "metadata": {},
   "outputs": [
    {
     "name": "stdout",
     "output_type": "stream",
     "text": [
      "12.9 µs ± 147 ns per loop (mean ± std. dev. of 7 runs, 100,000 loops each)\n"
     ]
    }
   ],
   "source": [
    "%%timeit\n",
    "func_one(100)"
   ]
  },
  {
   "cell_type": "code",
   "execution_count": 27,
   "id": "2e611495",
   "metadata": {},
   "outputs": [
    {
     "name": "stdout",
     "output_type": "stream",
     "text": [
      "10.7 µs ± 159 ns per loop (mean ± std. dev. of 7 runs, 100,000 loops each)\n"
     ]
    }
   ],
   "source": [
    "%%timeit\n",
    "func_two(100)"
   ]
  },
  {
   "cell_type": "code",
   "execution_count": null,
   "id": "4f4b309a",
   "metadata": {},
   "outputs": [],
   "source": []
  }
 ],
 "metadata": {
  "kernelspec": {
   "display_name": "Python 3 (ipykernel)",
   "language": "python",
   "name": "python3"
  },
  "language_info": {
   "codemirror_mode": {
    "name": "ipython",
    "version": 3
   },
   "file_extension": ".py",
   "mimetype": "text/x-python",
   "name": "python",
   "nbconvert_exporter": "python",
   "pygments_lexer": "ipython3",
   "version": "3.9.12"
  }
 },
 "nbformat": 4,
 "nbformat_minor": 5
}
